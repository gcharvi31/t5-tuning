{
  "cells": [
    {
      "cell_type": "code",
      "execution_count": null,
      "metadata": {
        "id": "JRaO34zERupy"
      },
      "outputs": [],
      "source": [
        "import pandas as pd\n",
        "import pickle\n",
        "import numpy as np\n",
        "import matplotlib.pyplot as plt"
      ]
    },
    {
      "cell_type": "code",
      "execution_count": null,
      "metadata": {
        "id": "hyMoVyI1PHEl"
      },
      "outputs": [],
      "source": [
        "%matplotlib inline"
      ]
    },
    {
      "cell_type": "code",
      "execution_count": null,
      "metadata": {
        "colab": {
          "base_uri": "https://localhost:8080/"
        },
        "id": "6dJ60Cq0K5BI",
        "outputId": "c426c0ec-a345-4983-9278-2905a66af820"
      },
      "outputs": [
        {
          "output_type": "stream",
          "name": "stdout",
          "text": [
            "Mounted at /content/gdrive\n"
          ]
        }
      ],
      "source": [
        "from google.colab import drive\n",
        "drive.mount(\"/content/gdrive\")"
      ]
    },
    {
      "cell_type": "code",
      "execution_count": null,
      "metadata": {
        "id": "BmvWMSJZFpWS"
      },
      "outputs": [],
      "source": [
        "def open_pickle(filename):\n",
        "  with open(filename, 'rb') as handle:\n",
        "    results = pickle.load(handle)\n",
        "    return results"
      ]
    },
    {
      "cell_type": "code",
      "execution_count": 22,
      "metadata": {
        "id": "BQRX_0FwG7Rn"
      },
      "outputs": [],
      "source": [
        "bio_model_1 = open_pickle(\"/content/gdrive/MyDrive/Fall 22/Intro To DL Systems/Project Data/Final Data/BioQA/model_1.pickle\")\n",
        "bio_model_2 = open_pickle(\"/content/gdrive/MyDrive/Fall 22/Intro To DL Systems/Project Data/Final Data/BioQA/model_2.pickle\")\n",
        "bio_model_3 = open_pickle(\"/content/gdrive/MyDrive/Fall 22/Intro To DL Systems/Project Data/Final Data/BioQA/model_3.pickle\")\n",
        "bio_model_4 = open_pickle(\"/content/gdrive/MyDrive/Fall 22/Intro To DL Systems/Project Data/Final Data/BioQA/model_4.pickle\")\n",
        "bio_model_5 = open_pickle(\"/content/gdrive/MyDrive/Fall 22/Intro To DL Systems/Project Data/Final Data/BioQA/model_5.pickle\")\n",
        "bio_model_6 = open_pickle(\"/content/gdrive/MyDrive/Fall 22/Intro To DL Systems/Project Data/Final Data/BioQA/model_6.pickle\")\n",
        "bio_model_7 = open_pickle(\"/content/gdrive/MyDrive/Fall 22/Intro To DL Systems/Project Data/Final Data/BioQA/model_7.pickle\")\n",
        "\n",
        "\n",
        "gsm_model_1 = open_pickle(\"/content/gdrive/MyDrive/Fall 22/Intro To DL Systems/Project Data/Final Data/gsm/model_1.pickle\")\n",
        "gsm_model_2 = open_pickle(\"/content/gdrive/MyDrive/Fall 22/Intro To DL Systems/Project Data/Final Data/gsm/model_2.pickle\")\n",
        "gsm_model_3 = open_pickle(\"/content/gdrive/MyDrive/Fall 22/Intro To DL Systems/Project Data/Final Data/gsm/model_3.pickle\")\n",
        "gsm_model_4 = open_pickle(\"/content/gdrive/MyDrive/Fall 22/Intro To DL Systems/Project Data/Final Data/gsm/model_4.pickle\")\n",
        "gsm_model_5 = open_pickle(\"/content/gdrive/MyDrive/Fall 22/Intro To DL Systems/Project Data/Final Data/gsm/model_5.pickle\")\n",
        "gsm_model_6 = open_pickle(\"/content/gdrive/MyDrive/Fall 22/Intro To DL Systems/Project Data/Final Data/gsm/model_6.pickle\")"
      ]
    },
    {
      "cell_type": "code",
      "execution_count": null,
      "metadata": {
        "colab": {
          "base_uri": "https://localhost:8080/"
        },
        "id": "cnvl6_ONgPJa",
        "outputId": "9f87eea3-1182-41d1-8e79-a41a9c39b0ba"
      },
      "outputs": [
        {
          "data": {
            "text/plain": [
              "1.7832745805115833"
            ]
          },
          "execution_count": 31,
          "metadata": {},
          "output_type": "execute_result"
        }
      ],
      "source": [
        "gsm_model_1[\"training_time\"]/gsm_model_5[\"training_time\"]"
      ]
    },
    {
      "cell_type": "code",
      "execution_count": null,
      "metadata": {
        "colab": {
          "base_uri": "https://localhost:8080/"
        },
        "id": "JVhzY-wSgcFd",
        "outputId": "7058c80e-5bab-4b58-b193-0331ca2cd8fb"
      },
      "outputs": [
        {
          "data": {
            "text/plain": [
              "1.8929618575043456"
            ]
          },
          "execution_count": 32,
          "metadata": {},
          "output_type": "execute_result"
        }
      ],
      "source": [
        "bio_model_1[\"training_time\"]/bio_model_5[\"training_time\"]"
      ]
    },
    {
      "cell_type": "code",
      "execution_count": null,
      "metadata": {
        "colab": {
          "base_uri": "https://localhost:8080/"
        },
        "id": "yWVf98OIgniC",
        "outputId": "91978686-fe2e-4546-c236-f0b4f4af8891"
      },
      "outputs": [
        {
          "data": {
            "text/plain": [
              "0.8560326877419532"
            ]
          },
          "execution_count": 35,
          "metadata": {},
          "output_type": "execute_result"
        }
      ],
      "source": [
        "np.mean(bio_model_4[\"val_losses\"][-35:])/np.mean(bio_model_1[\"val_losses\"][-35:])"
      ]
    },
    {
      "cell_type": "code",
      "execution_count": null,
      "metadata": {
        "colab": {
          "base_uri": "https://localhost:8080/"
        },
        "id": "1NidDfuOgnkO",
        "outputId": "e690d174-7e3b-4c8a-f509-8139c0ca5f54"
      },
      "outputs": [
        {
          "data": {
            "text/plain": [
              "0.7238012223192926"
            ]
          },
          "execution_count": 34,
          "metadata": {},
          "output_type": "execute_result"
        }
      ],
      "source": [
        "np.mean(gsm_model_5[\"val_losses\"][-35:])/np.mean(gsm_model_1[\"val_losses\"][-35:])"
      ]
    },
    {
      "cell_type": "markdown",
      "metadata": {
        "id": "RsPGui-dIS10"
      },
      "source": [
        "**Difference in final losses**"
      ]
    },
    {
      "cell_type": "code",
      "execution_count": 31,
      "metadata": {
        "id": "HUg66mdWT8jY"
      },
      "outputs": [],
      "source": [
        "model_numbers = [1, 2, 3, 4, 5]\n",
        "bio_models = [bio_model_1, bio_model_2, bio_model_3, bio_model_4, bio_model_5]\n",
        "gsm_models = [gsm_model_1, gsm_model_2, gsm_model_3, gsm_model_4, gsm_model_5]\n",
        "\n",
        "def get_loss_list(models):\n",
        "  loss_list = []\n",
        "  for model in models:\n",
        "    final_loss = model[\"val_losses\"]\n",
        "    loss_list.append(np.mean(final_loss[-35:]))\n",
        "  return loss_list"
      ]
    },
    {
      "cell_type": "code",
      "execution_count": 32,
      "metadata": {
        "id": "sAOd9gIEUopy"
      },
      "outputs": [],
      "source": [
        "bio_loss_list = get_loss_list(bio_models)\n",
        "gsm_loss_list = get_loss_list(gsm_models)"
      ]
    },
    {
      "cell_type": "code",
      "execution_count": 33,
      "metadata": {
        "colab": {
          "base_uri": "https://localhost:8080/",
          "height": 352
        },
        "id": "La-w6xsV7pTZ",
        "outputId": "81504ad6-3df3-4090-e7e5-f09ae353bc45"
      },
      "outputs": [
        {
          "output_type": "stream",
          "name": "stderr",
          "text": [
            "<ipython-input-33-ed16b7ffccfc>:12: MatplotlibDeprecationWarning: Passing the minor parameter of set_xticks() positionally is deprecated since Matplotlib 3.2; the parameter will become keyword-only two minor releases later.\n",
            "  ax.set_xticks(x, model_numbers)\n"
          ]
        },
        {
          "output_type": "display_data",
          "data": {
            "text/plain": [
              "<Figure size 432x288 with 1 Axes>"
            ],
            "image/png": "[encoded data removed]"
          },
          "metadata": {
            "needs_background": "light"
          }
        }
      ],
      "source": [
        "x = np.arange(1, len(model_numbers)+1)  # the label locations\n",
        "width = 0.35  # the width of the bars\n",
        "\n",
        "fig, ax = plt.subplots()\n",
        "rects1 = ax.bar(x - width/2, bio_loss_list, width, label='BioQA')\n",
        "rects2 = ax.bar(x + width/2, gsm_loss_list, width, label='GSMQA')\n",
        "\n",
        "# Add some text for labels, title and custom x-axis tick labels, etc.\n",
        "ax.set_ylabel('Val loss')\n",
        "ax.set_xlabel('Model number')\n",
        "ax.set_title('Loss by training method and dataset')\n",
        "ax.set_xticks(x, model_numbers)\n",
        "ax.legend()\n",
        "\n",
        "\n",
        "fig.tight_layout()\n",
        "\n",
        "plt.savefig(\"val_loss.png\")\n",
        "plt.show()"
      ]
    },
    {
      "cell_type": "code",
      "execution_count": 25,
      "metadata": {
        "id": "Rxa0IvOaKjQi"
      },
      "outputs": [],
      "source": []
    },
    {
      "cell_type": "code",
      "execution_count": 25,
      "metadata": {
        "id": "oGxAUd15KjTP"
      },
      "outputs": [],
      "source": []
    },
    {
      "cell_type": "markdown",
      "metadata": {
        "id": "xfPdpBdJKjpp"
      },
      "source": [
        "**Difference in training times**"
      ]
    },
    {
      "cell_type": "code",
      "execution_count": 26,
      "metadata": {
        "id": "b5DqQXR3Ldhb"
      },
      "outputs": [],
      "source": [
        "def get_time_list(models):\n",
        "  time_list = []\n",
        "  for model in models:\n",
        "    time_list.append(model[\"training_time\"])\n",
        "  return time_list"
      ]
    },
    {
      "cell_type": "code",
      "execution_count": 27,
      "metadata": {
        "id": "rj3h8naOLdkH"
      },
      "outputs": [],
      "source": [
        "bio_time_list = get_time_list(bio_models)\n",
        "gsm_time_list = get_time_list(gsm_models)"
      ]
    },
    {
      "cell_type": "code",
      "execution_count": 28,
      "metadata": {
        "colab": {
          "base_uri": "https://localhost:8080/",
          "height": 352
        },
        "id": "_ORToYsb-HP0",
        "outputId": "bcbabbb2-0809-4447-ba3e-e394a9ed64b5"
      },
      "outputs": [
        {
          "output_type": "stream",
          "name": "stderr",
          "text": [
            "<ipython-input-28-19b79417eca1>:12: MatplotlibDeprecationWarning: Passing the minor parameter of set_xticks() positionally is deprecated since Matplotlib 3.2; the parameter will become keyword-only two minor releases later.\n",
            "  ax.set_xticks(x, model_numbers)\n"
          ]
        },
        {
          "output_type": "display_data",
          "data": {
            "text/plain": [
              "<Figure size 432x288 with 1 Axes>"
            ],
            "image/png": "[encoded data removed]"
          },
          "metadata": {
            "needs_background": "light"
          }
        }
      ],
      "source": [
        "x = np.arange(1, len(model_numbers)+1)  # the label locations\n",
        "width = 0.35  # the width of the bars\n",
        "\n",
        "fig, ax = plt.subplots()\n",
        "rects1 = ax.bar(x - width/2, bio_time_list, width, label='BioQA')\n",
        "rects2 = ax.bar(x + width/2, gsm_time_list, width, label='GSMQA')\n",
        "\n",
        "# Add some text for labels, title and custom x-axis tick labels, etc.\n",
        "ax.set_ylabel('Training time')\n",
        "ax.set_xlabel('Model number')\n",
        "ax.set_title('Time for 20 epochs by training method and dataset')\n",
        "ax.set_xticks(x, model_numbers)\n",
        "ax.legend()\n",
        "\n",
        "\n",
        "fig.tight_layout()\n",
        "plt.savefig(\"training_time.png\")\n",
        "plt.show()"
      ]
    },
    {
      "cell_type": "code",
      "execution_count": null,
      "metadata": {
        "id": "P5HdJvKdKmQ2"
      },
      "outputs": [],
      "source": []
    },
    {
      "cell_type": "code",
      "execution_count": null,
      "metadata": {
        "id": "DdXYrtcjKmTd"
      },
      "outputs": [],
      "source": []
    },
    {
      "cell_type": "code",
      "execution_count": null,
      "metadata": {
        "id": "bwSyYYYBLeaS"
      },
      "outputs": [],
      "source": []
    },
    {
      "cell_type": "code",
      "execution_count": null,
      "metadata": {
        "id": "exZN6KzzLecQ"
      },
      "outputs": [],
      "source": []
    },
    {
      "cell_type": "code",
      "execution_count": null,
      "metadata": {
        "id": "uRie5AA7LefC"
      },
      "outputs": [],
      "source": []
    },
    {
      "cell_type": "markdown",
      "metadata": {
        "id": "SdLYFbV9Le15"
      },
      "source": [
        "**Difference in GPU utilization**"
      ]
    },
    {
      "cell_type": "code",
      "execution_count": null,
      "metadata": {
        "id": "W60FLBhyLjzX"
      },
      "outputs": [],
      "source": [
        "bio_log_1 = pd.read_csv(\"/content/gdrive/MyDrive/Fall 22/Intro To DL Systems/Project Data/Final Data/BioQA/log_compute_model_1.csv\")\n",
        "bio_log_2 = pd.read_csv(\"/content/gdrive/MyDrive/Fall 22/Intro To DL Systems/Project Data/Final Data/BioQA/log_compute_model_2.csv\")\n",
        "bio_log_3 = pd.read_csv(\"/content/gdrive/MyDrive/Fall 22/Intro To DL Systems/Project Data/Final Data/BioQA/log_compute_model_3.csv\")\n",
        "bio_log_4 = pd.read_csv(\"/content/gdrive/MyDrive/Fall 22/Intro To DL Systems/Project Data/Final Data/BioQA/log_compute_model_4.csv\")\n",
        "bio_log_5 = pd.read_csv(\"/content/gdrive/MyDrive/Fall 22/Intro To DL Systems/Project Data/Final Data/BioQA/log_compute_model_5.csv\")\n",
        "\n",
        "\n",
        "gsm_log_1 = pd.read_csv(\"/content/gdrive/MyDrive/Fall 22/Intro To DL Systems/Project Data/Final Data/gsm/log_compute_model_1.csv\")\n",
        "gsm_log_2 = pd.read_csv(\"/content/gdrive/MyDrive/Fall 22/Intro To DL Systems/Project Data/Final Data/gsm/log_compute_model_2.csv\")\n",
        "gsm_log_3 = pd.read_csv(\"/content/gdrive/MyDrive/Fall 22/Intro To DL Systems/Project Data/Final Data/gsm/log_compute_model_3.csv\")\n",
        "gsm_log_4 = pd.read_csv(\"/content/gdrive/MyDrive/Fall 22/Intro To DL Systems/Project Data/Final Data/gsm/log_compute_model_4.csv\")\n",
        "gsm_log_5 = pd.read_csv(\"/content/gdrive/MyDrive/Fall 22/Intro To DL Systems/Project Data/Final Data/gsm/log_compute_model_5.csv\")"
      ]
    },
    {
      "cell_type": "code",
      "execution_count": null,
      "metadata": {
        "id": "kRFvkNPIWD2W"
      },
      "outputs": [],
      "source": [
        "def convert_to_float(input_list): \n",
        "  res = []\n",
        "  for i in range(len(input_list)):\n",
        "    try:\n",
        "      res.append(float(input_list[i]))\n",
        "    except:\n",
        "      pass\n",
        "  return res\n",
        "\n",
        "\n",
        "def get_avg_gpu_util(log):\n",
        "  gpu_1 = list(log[\"0:GPU (%)\"])\n",
        "  gpu_2 = list(log[\"1:GPU (%)\"])\n",
        "  gpu_1 = convert_to_float(gpu_1)\n",
        "  gpu_2 = convert_to_float(gpu_2)\n",
        "  avg_gpu = (np.array(gpu_1)+np.array(gpu_2))/2.0\n",
        "  return avg_gpu"
      ]
    },
    {
      "cell_type": "code",
      "execution_count": null,
      "metadata": {
        "colab": {
          "base_uri": "https://localhost:8080/",
          "height": 295
        },
        "id": "5r2lcmgGOYjV",
        "outputId": "f90b9b2e-ed8a-4b61-b9ba-4e6b86dc4cbd"
      },
      "outputs": [
        {
          "data": {
            "image/png": "[encoded data removed]",
            "text/plain": [
              "<Figure size 432x288 with 1 Axes>"
            ]
          },
          "metadata": {},
          "output_type": "display_data"
        }
      ],
      "source": [
        "plt.title(\"GPU utilizations (BioQA)\")\n",
        "\n",
        "plt.plot(bio_log_1[\"0:GPU (%)\"], label=\"model 1\")\n",
        "plt.plot(bio_log_2[\"0:GPU (%)\"], label=\"model 2\")\n",
        "plt.plot(bio_log_3[\"0:GPU (%)\"], label=\"model 3\")\n",
        "plt.xlabel(\"Time\")\n",
        "plt.ylabel(\"%age utilization\")\n",
        "\n",
        "plt.legend()\n",
        "\n",
        "plt.savefig(\"bio_gpu.png\")\n",
        "plt.show()"
      ]
    },
    {
      "cell_type": "code",
      "execution_count": null,
      "metadata": {
        "id": "Lc6IKmM_RDlR"
      },
      "outputs": [],
      "source": []
    },
    {
      "cell_type": "code",
      "execution_count": null,
      "metadata": {
        "id": "9vIlPID9RDnW"
      },
      "outputs": [],
      "source": []
    },
    {
      "cell_type": "code",
      "execution_count": null,
      "metadata": {
        "id": "VwUDzjn0RDqj"
      },
      "outputs": [],
      "source": []
    },
    {
      "cell_type": "markdown",
      "metadata": {
        "id": "NgQfTXHdREEz"
      },
      "source": [
        "**Max GPU temperature**"
      ]
    },
    {
      "cell_type": "code",
      "execution_count": null,
      "metadata": {
        "id": "Mxd5ivrKWjmB"
      },
      "outputs": [],
      "source": [
        "bio_logs = [bio_log_1, bio_log_2, bio_log_3, bio_log_4, bio_log_5]\n",
        "gsm_logs = [gsm_log_1, gsm_log_2, gsm_log_3, gsm_log_4, gsm_log_5]"
      ]
    },
    {
      "cell_type": "code",
      "execution_count": null,
      "metadata": {
        "id": "8kWflW-cWmqr"
      },
      "outputs": [],
      "source": [
        "def get_temps_list(logs):\n",
        "  res = []\n",
        "  for log in logs:\n",
        "    if \"1:Temp (C)\" in log.columns:\n",
        "      res.append(max(int(log[\"1:Temp (C)\"].max()), int(log[\"0:Temp (C)\"].max())))\n",
        "    else:\n",
        "      res.append(log[\"0:Temp (C)\"].max())\n",
        "  return res"
      ]
    },
    {
      "cell_type": "code",
      "execution_count": null,
      "metadata": {
        "id": "gxtN0-PDXAgs"
      },
      "outputs": [],
      "source": [
        "bio_temp_list = get_temps_list(bio_logs)\n",
        "gsm_temp_list = get_temps_list(gsm_logs)"
      ]
    },
    {
      "cell_type": "code",
      "execution_count": null,
      "metadata": {
        "colab": {
          "base_uri": "https://localhost:8080/",
          "height": 352
        },
        "id": "8l1G92g1I2D_",
        "outputId": "4ece459c-8bf7-4789-9f9f-ff19a2f64ea5"
      },
      "outputs": [
        {
          "name": "stderr",
          "output_type": "stream",
          "text": [
            "<ipython-input-55-baddac497801>:12: MatplotlibDeprecationWarning: Passing the minor parameter of set_xticks() positionally is deprecated since Matplotlib 3.2; the parameter will become keyword-only two minor releases later.\n",
            "  ax.set_xticks(x, model_numbers)\n"
          ]
        },
        {
          "data": {
            "image/png": "[encoded data removed]",
            "text/plain": [
              "<Figure size 432x288 with 1 Axes>"
            ]
          },
          "metadata": {},
          "output_type": "display_data"
        }
      ],
      "source": [
        "x = np.arange(1, len(model_numbers)+1)  # the label locations\n",
        "width = 0.35  # the width of the bars\n",
        "\n",
        "fig, ax = plt.subplots()\n",
        "rects1 = ax.bar(x - width/2, bio_temp_list, width, label='BioQA')\n",
        "rects2 = ax.bar(x + width/2, gsm_temp_list, width, label='GSMQA')\n",
        "\n",
        "# Add some text for labels, title and custom x-axis tick labels, etc.\n",
        "ax.set_ylabel('Temp')\n",
        "ax.set_xlabel('Model Number')\n",
        "ax.set_title('Max GPU Temp for training methods')\n",
        "ax.set_xticks(x, model_numbers)\n",
        "ax.legend()\n",
        "\n",
        "\n",
        "fig.tight_layout()\n",
        "\n",
        "plt.savefig(\"temp.png\")\n",
        "plt.show()"
      ]
    },
    {
      "cell_type": "code",
      "execution_count": null,
      "metadata": {
        "id": "hUepjNKMOdp5"
      },
      "outputs": [],
      "source": []
    },
    {
      "cell_type": "code",
      "execution_count": null,
      "metadata": {
        "colab": {
          "base_uri": "https://localhost:8080/",
          "height": 295
        },
        "id": "xFnvcTv5OdxI",
        "outputId": "dbe4dae2-8417-4c93-ed3a-b5fcf6ec2db5"
      },
      "outputs": [
        {
          "data": {
            "image/png": "[encoded data removed]",
            "text/plain": [
              "<Figure size 432x288 with 1 Axes>"
            ]
          },
          "metadata": {},
          "output_type": "display_data"
        }
      ],
      "source": [
        "plt.title(\"GPU utilizations\")\n",
        "\n",
        "plt.plot(gsm_log_1[\"0:GPU (%)\"], label=\"model 1\")\n",
        "plt.plot(gsm_log_2[\"0:GPU (%)\"], label=\"model 2\")\n",
        "plt.plot(gsm_log_3[\"0:GPU (%)\"], label=\"model 3\")\n",
        "\n",
        "plt.xlabel(\"Time\")\n",
        "plt.ylabel(\"%age utilization\")\n",
        "\n",
        "plt.legend()\n",
        "\n",
        "plt.savefig(\"gsm_gpu.png\")\n",
        "plt.show()"
      ]
    },
    {
      "cell_type": "code",
      "execution_count": null,
      "metadata": {
        "id": "4giKDhlfOdzg"
      },
      "outputs": [],
      "source": []
    },
    {
      "cell_type": "code",
      "execution_count": null,
      "metadata": {
        "id": "ulxbul1YOd1v"
      },
      "outputs": [],
      "source": []
    },
    {
      "cell_type": "code",
      "execution_count": null,
      "metadata": {
        "id": "n9d19tN7Od39"
      },
      "outputs": [],
      "source": []
    },
    {
      "cell_type": "markdown",
      "metadata": {
        "id": "8ijPfwbwrEiB"
      },
      "source": [
        "**Training the large model (800M params) on 3 GPUs using model parallelism**"
      ]
    },
    {
      "cell_type": "code",
      "execution_count": 29,
      "metadata": {
        "id": "imRlAhZUrJrt"
      },
      "outputs": [],
      "source": [
        "bio_model_6 = open_pickle(\"/content/gdrive/MyDrive/Fall 22/Intro To DL Systems/Project Data/Final Data/BioQA/model_6.pickle\")\n",
        "gsm_model_6 = open_pickle(\"/content/gdrive/MyDrive/Fall 22/Intro To DL Systems/Project Data/Final Data/gsm/model_6.pickle\")"
      ]
    },
    {
      "cell_type": "code",
      "execution_count": 34,
      "metadata": {
        "id": "n9vgiP5GrSKO"
      },
      "outputs": [],
      "source": [
        "bio_final_loss = bio_model_6[\"val_losses\"]\n",
        "gsm_final_loss = gsm_model_6[\"val_losses\"]"
      ]
    },
    {
      "cell_type": "code",
      "execution_count": 35,
      "metadata": {
        "id": "ANGcfWAWOEqs"
      },
      "outputs": [],
      "source": [
        "bio_loss_list.append(np.mean(bio_final_loss[-35:]))\n",
        "gsm_loss_list.append(np.mean(gsm_final_loss[-35:]))"
      ]
    },
    {
      "cell_type": "code",
      "execution_count": 36,
      "metadata": {
        "id": "Jzq9Iw60N7Y4"
      },
      "outputs": [],
      "source": [
        "model_numbers.append(6)"
      ]
    },
    {
      "cell_type": "code",
      "source": [
        "x = np.arange(1, len(model_numbers)+1)  # the label locations\n",
        "width = 0.35  # the width of the bars\n",
        "\n",
        "fig, ax = plt.subplots()\n",
        "rects1 = ax.bar(x - width/2, bio_loss_list, width, label='BioQA')\n",
        "rects2 = ax.bar(x + width/2, gsm_loss_list, width, label='GSMQA')\n",
        "\n",
        "# Add some text for labels, title and custom x-axis tick labels, etc.\n",
        "ax.set_ylabel('Val Loss')\n",
        "ax.set_xlabel('Model Number')\n",
        "ax.set_title('Final val loss for different training methods')\n",
        "ax.set_xticks(x, model_numbers)\n",
        "ax.legend()\n",
        "\n",
        "\n",
        "fig.tight_layout()\n",
        "\n",
        "plt.savefig(\"big_model_loss.png\")\n",
        "plt.show()"
      ],
      "metadata": {
        "colab": {
          "base_uri": "https://localhost:8080/",
          "height": 352
        },
        "id": "inMn8Yf-yygd",
        "outputId": "05b53cca-f34d-4e13-e93b-a0c63ed4ab32"
      },
      "execution_count": 38,
      "outputs": [
        {
          "output_type": "stream",
          "name": "stderr",
          "text": [
            "<ipython-input-38-55cf0289e582>:12: MatplotlibDeprecationWarning: Passing the minor parameter of set_xticks() positionally is deprecated since Matplotlib 3.2; the parameter will become keyword-only two minor releases later.\n",
            "  ax.set_xticks(x, model_numbers)\n"
          ]
        },
        {
          "output_type": "display_data",
          "data": {
            "text/plain": [
              "<Figure size 432x288 with 1 Axes>"
            ],
            "image/png": "[encoded data removed]"
          },
          "metadata": {
            "needs_background": "light"
          }
        }
      ]
    },
    {
      "cell_type": "code",
      "execution_count": 39,
      "metadata": {
        "id": "fMLl4Z2sKmtd"
      },
      "outputs": [],
      "source": [
        "bio_time_list.append(bio_model_6[\"training_time\"])\n",
        "gsm_time_list.append(gsm_model_6[\"training_time\"])"
      ]
    },
    {
      "cell_type": "code",
      "source": [
        "x = np.arange(1, len(model_numbers)+1)  # the label locations\n",
        "width = 0.35  # the width of the bars\n",
        "\n",
        "fig, ax = plt.subplots()\n",
        "rects1 = ax.bar(x - width/2, bio_time_list, width, label='BioQA')\n",
        "rects2 = ax.bar(x + width/2, gsm_time_list, width, label='GSMQA')\n",
        "\n",
        "# Add some text for labels, title and custom x-axis tick labels, etc.\n",
        "ax.set_ylabel('Val Loss')\n",
        "ax.set_xlabel('Model Number')\n",
        "ax.set_title('Training time for different training methods')\n",
        "ax.set_xticks(x, model_numbers)\n",
        "ax.legend()\n",
        "\n",
        "\n",
        "fig.tight_layout()\n",
        "\n",
        "plt.savefig(\"big_model_time.png\")\n",
        "plt.show()"
      ],
      "metadata": {
        "colab": {
          "base_uri": "https://localhost:8080/",
          "height": 352
        },
        "id": "ZrGTyBQuze3_",
        "outputId": "8f6aa176-85cc-48d0-e3b3-88fe3cb5ea56"
      },
      "execution_count": 40,
      "outputs": [
        {
          "output_type": "stream",
          "name": "stderr",
          "text": [
            "<ipython-input-40-fef2d9d9cf71>:12: MatplotlibDeprecationWarning: Passing the minor parameter of set_xticks() positionally is deprecated since Matplotlib 3.2; the parameter will become keyword-only two minor releases later.\n",
            "  ax.set_xticks(x, model_numbers)\n"
          ]
        },
        {
          "output_type": "display_data",
          "data": {
            "text/plain": [
              "<Figure size 432x288 with 1 Axes>"
            ],
            "image/png": "[encoded data removed]"
          },
          "metadata": {
            "needs_background": "light"
          }
        }
      ]
    },
    {
      "cell_type": "code",
      "execution_count": null,
      "metadata": {
        "id": "ZkSB0Xdos-hm"
      },
      "outputs": [],
      "source": []
    },
    {
      "cell_type": "code",
      "execution_count": null,
      "metadata": {
        "id": "PeGVphF9s-jh"
      },
      "outputs": [],
      "source": []
    },
    {
      "cell_type": "markdown",
      "metadata": {
        "id": "SqzkJgFns-sI"
      },
      "source": [
        "**Observing training speed-up with GPUs for BioQA**"
      ]
    },
    {
      "cell_type": "code",
      "execution_count": null,
      "metadata": {
        "colab": {
          "background_save": true
        },
        "id": "jBJMZZ21tDWL"
      },
      "outputs": [],
      "source": [
        "n_gpus = [1, 2, 4]\n",
        "\n",
        "times = []\n",
        "times.append(bio_model_1[\"training_time\"])\n",
        "times.append(bio_model_5[\"training_time\"])\n",
        "times.append(bio_model_7[\"training_time\"])"
      ]
    },
    {
      "cell_type": "code",
      "execution_count": null,
      "metadata": {
        "colab": {
          "background_save": true
        },
        "id": "XZoWq4metUrs",
        "outputId": "01c8d42d-0cbf-4943-df29-34baf9f1bf65"
      },
      "outputs": [
        {
          "data": {
            "text/plain": [
              "[2522.3642983436584, 1332.4961030483246, 691.4854533672333]"
            ]
          },
          "execution_count": 70,
          "metadata": {},
          "output_type": "execute_result"
        }
      ],
      "source": [
        "times"
      ]
    },
    {
      "cell_type": "code",
      "execution_count": null,
      "metadata": {
        "colab": {
          "background_save": true
        },
        "id": "gaLNYG5YumkB"
      },
      "outputs": [],
      "source": [
        "perfect_scale_times = [2522.3642983436584, 2522.3642983436584/2, 2522.3642983436584/4]"
      ]
    },
    {
      "cell_type": "code",
      "execution_count": null,
      "metadata": {
        "colab": {
          "background_save": true,
          "base_uri": "https://localhost:8080/",
          "height": 300
        },
        "id": "r45fwAhmtVHX",
        "outputId": "02535535-36bb-4084-de41-0706a9f47d7b"
      },
      "outputs": [
        {
          "data": {
            "image/png": "[encoded data removed]",
            "text/plain": [
              "<Figure size 432x288 with 1 Axes>"
            ]
          },
          "metadata": {},
          "output_type": "display_data"
        }
      ],
      "source": [
        "plt.plot(n_gpus, times, color='red', marker='o', label=\"Actual results\")\n",
        "plt.plot(n_gpus, perfect_scale_times, color='green', marker='x', label=\"Ideal scaling\")\n",
        "plt.title('Training time vs Number of GPUs', fontsize=14)\n",
        "plt.xlabel('Number of GPUs', fontsize=14)\n",
        "plt.ylabel('Training time', fontsize=14)\n",
        "plt.legend()\n",
        "plt.show()"
      ]
    },
    {
      "cell_type": "code",
      "execution_count": null,
      "metadata": {
        "id": "uKbl_GnQtnfE"
      },
      "outputs": [],
      "source": []
    },
    {
      "cell_type": "code",
      "execution_count": null,
      "metadata": {
        "id": "xw0BKXk_t-wJ"
      },
      "outputs": [],
      "source": []
    },
    {
      "cell_type": "markdown",
      "source": [
        "**Pareto Curve**"
      ],
      "metadata": {
        "id": "ipSiT1vRtJUk"
      }
    },
    {
      "cell_type": "code",
      "source": [
        "annotations=[\"1\",\"2\",\"3\",\"4\",\"5\", \"6\"]\n",
        "\n",
        "plt.figure(figsize=(6,4))\n",
        "plt.scatter(bio_loss_list, bio_time_list,s=100,color=\"red\")\n",
        "plt.xlabel(\"Loss\")\n",
        "plt.ylabel(\"Training Time\")\n",
        "plt.title(\"Pareto Curve (BioQA)\",fontsize=15)\n",
        "for i, label in enumerate(annotations):\n",
        "    plt.annotate(label, (bio_loss_list[i], bio_time_list[i]))\n",
        "\n",
        "plt.savefig(\"pareto_bio.png\")\n",
        "plt.show()"
      ],
      "metadata": {
        "id": "fTOWaSEut1tV",
        "colab": {
          "base_uri": "https://localhost:8080/",
          "height": 297
        },
        "outputId": "da0ef375-cfd6-4117-a696-6ef66bdceb44"
      },
      "execution_count": 41,
      "outputs": [
        {
          "output_type": "display_data",
          "data": {
            "text/plain": [
              "<Figure size 432x288 with 1 Axes>"
            ],
            "image/png": "[encoded data removed]"
          },
          "metadata": {
            "needs_background": "light"
          }
        }
      ]
    },
    {
      "cell_type": "code",
      "source": [
        "annotations=[\"1\",\"2\",\"3\",\"4\",\"5\",\"6\"]\n",
        "\n",
        "plt.figure(figsize=(6,4))\n",
        "plt.scatter(gsm_loss_list, gsm_time_list,s=100,color=\"red\")\n",
        "plt.xlabel(\"Loss\")\n",
        "plt.ylabel(\"Training Time\")\n",
        "plt.title(\"Pareto Curve (GSM)\",fontsize=15)\n",
        "for i, label in enumerate(annotations):\n",
        "    plt.annotate(label, (gsm_loss_list[i], gsm_time_list[i]))\n",
        "\n",
        "plt.savefig(\"pareto_gsm.png\")\n",
        "plt.show()"
      ],
      "metadata": {
        "colab": {
          "base_uri": "https://localhost:8080/",
          "height": 297
        },
        "id": "_yZ0O5L5vIbd",
        "outputId": "d4fe017c-d3ae-4c8d-f8fe-7487c65c7858"
      },
      "execution_count": 42,
      "outputs": [
        {
          "output_type": "display_data",
          "data": {
            "text/plain": [
              "<Figure size 432x288 with 1 Axes>"
            ],
            "image/png": "[encoded data removed]"
          },
          "metadata": {
            "needs_background": "light"
          }
        }
      ]
    },
    {
      "cell_type": "code",
      "source": [],
      "metadata": {
        "id": "_1C3UHK9vXga"
      },
      "execution_count": null,
      "outputs": []
    }
  ],
  "metadata": {
    "colab": {
      "provenance": []
    },
    "gpuClass": "standard",
    "kernelspec": {
      "display_name": "Python 3",
      "name": "python3"
    },
    "language_info": {
      "name": "python"
    }
  },
  "nbformat": 4,
  "nbformat_minor": 0
}